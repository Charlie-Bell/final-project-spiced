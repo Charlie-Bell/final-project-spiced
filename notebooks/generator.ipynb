{
 "cells": [
  {
   "cell_type": "code",
   "execution_count": 33,
   "metadata": {},
   "outputs": [
    {
     "name": "stdout",
     "output_type": "stream",
     "text": [
      "cuda\n"
     ]
    }
   ],
   "source": [
    "from transformers import AutoModelForSequenceClassification, AutoModelForCausalLM, AutoTokenizer, set_seed\n",
    "import torch\n",
    "import numpy as np\n",
    "import re\n",
    "import html\n",
    "\n",
    "device = 'cuda' if torch.cuda.is_available() else 'cpu'\n",
    "print(device)"
   ]
  },
  {
   "attachments": {},
   "cell_type": "markdown",
   "metadata": {},
   "source": [
    "# Loads models"
   ]
  },
  {
   "cell_type": "code",
   "execution_count": 7,
   "metadata": {},
   "outputs": [],
   "source": [
    "tokenizer_gpt = AutoTokenizer.from_pretrained('distilgpt2')\n",
    "tokenizer_bert = AutoTokenizer.from_pretrained('distilbert-base-cased', do_lower_case=True) # Need to retrain with do_lower_case=False\n",
    "\n",
    "generator = AutoModelForCausalLM.from_pretrained('../models/gpt2/final', pad_token_id=tokenizer_gpt.eos_token_id).to(device)\n",
    "discriminator = AutoModelForSequenceClassification.from_pretrained('../models/bert_discriminator/final').to(device)\n",
    "predictor = AutoModelForSequenceClassification.from_pretrained('../models/bert_predictor/final').to(device)"
   ]
  },
  {
   "attachments": {},
   "cell_type": "markdown",
   "metadata": {},
   "source": [
    "# Generate candidates"
   ]
  },
  {
   "cell_type": "code",
   "execution_count": 17,
   "metadata": {},
   "outputs": [
    {
     "name": "stdout",
     "output_type": "stream",
     "text": [
      "Output:\n",
      "----------------------------------------------------------------------------------------------------\n",
      "0: This is what I'm trying to say. \n",
      "\n",
      "1: &gt;My minor was in psych based neuro but I took my bio electives as bio based neuro courses. Still had to do calc 1, calc 2, chem 1, orgo 2,\n",
      "\n",
      "2: I was in grad school. A while back I did some math and bio because it was good   \n",
      "\n",
      "3: This is one of my favorites!  \n",
      "\n",
      "4: How was bio based? It's basically a combination of bio based and psych based and psych based, and all bio based. \n",
      "\n",
      "5: It is still my best time to study chemistry and bio at my university. I would love to study bio as well.     \n",
      "\n",
      "6: That's what I did! I got around 1, calc 2, chem 2, chem 1, chem 2, orgo 2, physics 1, and physics 2. But I didn't get around\n",
      "\n",
      "7: Also the 2 major programs taught me how to draw attention to the physical structure and structure of the brain.  I had no idea what a neuroscience major was.  I am very interested in neuroscience but\n",
      "\n",
      "8: So what is the bio?  \n",
      "\n",
      "9: Can you help me explain to me how bio based chemistry courses are considered a no go? \n",
      "\n",
      "10: This is excellent.  \n",
      "\n",
      "11: Not sure what the bio degree meant, but I'm glad to hear you have a look at it.     \n",
      "\n",
      "12: Hey there!  \n",
      "\n",
      "13: I went to graduate school for bio based neuro and psych. I was taught it in undergrad, and now I still do it. \n",
      "\n",
      "14: [deleted]  [deleted]  [deleted]  [deleted]   [deleted]    [deleted]   [deleted]  \n",
      "\n",
      "15: There's also a neuroscience center with bio based courses. My biology is pretty good, and there's an online class which has bio based courses, but it is much more focused on bio based courses.\n",
      "\n",
      "16: [deleted] \n",
      "\n",
      "17: I really like the bio at all, but I wouldn't have been able to do that if I had to do a bio.   \n",
      "\n",
      "18: There are many bio based neuroscience courses out there. My math class is pretty fun too.  \n",
      "\n",
      "19: I was very confused about the bio and I got more confused when I saw the bio and I was confused about the bio. I really liked the way they seemed to make their biology more bio based but\n",
      "\n"
     ]
    }
   ],
   "source": [
    "# set seed to reproduce results. Feel free to change the seed though to get different results\n",
    "\n",
    "# encode context the generation is conditioned on\n",
    "sep_token = \"<|reply|>\"\n",
    "input_text = \"Oh nice! I got around this (kind of) by being a bio major with a minor in neuro research. My school had 2 neruo programs - bio based and psych based. My minor was in psych based neuro but I took my bio electives as bio based neuro courses. Still had to do calc 1, calc 2, chem 1, chem 2, orgo 1, orgo 2, physics 1, and physics 2. But I DIDNT have to take intro to pharma kinetics, inorganic chemistry and a few other higher level chem classes. I did this bc the psych based neuro courses had almost no bio and I love bio. But math and chem are my kryptonite.\"\n",
    "model_inputs = tokenizer_gpt([\" \".join([input_text, sep_token])], return_tensors='pt').to(device)\n",
    "\n",
    "# set top_k = 50 and set top_p = 0.95 and num_return_sequences = 3\n",
    "sample_outputs = generator.generate(\n",
    "    **model_inputs,\n",
    "    max_new_tokens=40,\n",
    "    do_sample=True,\n",
    "    early_stopping=True,\n",
    "    top_k=50,\n",
    "    top_p=0.95,\n",
    "    temperature=0.8,\n",
    "    num_return_sequences=20,\n",
    ")\n",
    "\n",
    "print(\"Output:\\n\" + 100 * '-')\n",
    "texts = []\n",
    "for i, sample_output in enumerate(sample_outputs):\n",
    "    text = tokenizer_gpt.decode(sample_output, skip_special_tokens=False).split('<|reply|>')[1].split('\\n')[0][1:]\n",
    "    texts.append(text)\n",
    "    print(f\"{i}: {text}\\n\")\n",
    "\n"
   ]
  },
  {
   "attachments": {},
   "cell_type": "markdown",
   "metadata": {},
   "source": [
    "#### Clean candidates"
   ]
  },
  {
   "cell_type": "code",
   "execution_count": 18,
   "metadata": {},
   "outputs": [
    {
     "data": {
      "text/plain": [
       "[\"This is what I'm trying to say.\",\n",
       " '>My minor was in psych based neuro but I took my bio electives as bio based neuro courses. Still had to do calc 1, calc 2, chem 1, orgo 2,',\n",
       " 'I was in grad school. A while back I did some math and bio because it was good',\n",
       " 'This is one of my favorites!',\n",
       " \"How was bio based? It's basically a combination of bio based and psych based and psych based, and all bio based.\",\n",
       " 'It is still my best time to study chemistry and bio at my university. I would love to study bio as well.',\n",
       " \"That's what I did! I got around 1, calc 2, chem 2, chem 1, chem 2, orgo 2, physics 1, and physics 2. But I didn't get around\",\n",
       " 'Also the 2 major programs taught me how to draw attention to the physical structure and structure of the brain.  I had no idea what a neuroscience major was.  I am very interested in neuroscience but',\n",
       " 'So what is the bio?',\n",
       " 'Can you help me explain to me how bio based chemistry courses are considered a no go?',\n",
       " 'This is excellent.',\n",
       " \"Not sure what the bio degree meant, but I'm glad to hear you have a look at it.\",\n",
       " 'Hey there!',\n",
       " 'I went to graduate school for bio based neuro and psych. I was taught it in undergrad, and now I still do it.',\n",
       " '[deleted]  [deleted]  [deleted]  [deleted]   [deleted]    [deleted]   [deleted]',\n",
       " \"There's also a neuroscience center with bio based courses. My biology is pretty good, and there's an online class which has bio based courses, but it is much more focused on bio based courses.\",\n",
       " '[deleted]',\n",
       " \"I really like the bio at all, but I wouldn't have been able to do that if I had to do a bio.\",\n",
       " 'There are many bio based neuroscience courses out there. My math class is pretty fun too.',\n",
       " 'I was very confused about the bio and I got more confused when I saw the bio and I was confused about the bio. I really liked the way they seemed to make their biology more bio based but']"
      ]
     },
     "execution_count": 18,
     "metadata": {},
     "output_type": "execute_result"
    }
   ],
   "source": [
    "def regex_text(text):\n",
    "    text = html.unescape(text)\n",
    "    text = re.sub(r\"\\\\'\", r\"'\", text)\n",
    "    text = re.sub(r\"\\s+$\", '', text)    \n",
    "    return text\n",
    "\n",
    "texts = [regex_text(text) for text in texts[:]]\n",
    "texts"
   ]
  },
  {
   "attachments": {},
   "cell_type": "markdown",
   "metadata": {},
   "source": [
    "# Discriminate candidates\n",
    "1 = Fake\n",
    "0 = Real"
   ]
  },
  {
   "cell_type": "code",
   "execution_count": 21,
   "metadata": {},
   "outputs": [
    {
     "data": {
      "text/plain": [
       "['I was in grad school. A while back I did some math and bio because it was good',\n",
       " 'Can you help me explain to me how bio based chemistry courses are considered a no go?',\n",
       " 'There are many bio based neuroscience courses out there. My math class is pretty fun too.']"
      ]
     },
     "execution_count": 21,
     "metadata": {},
     "output_type": "execute_result"
    }
   ],
   "source": [
    "realistic_texts = []\n",
    "for text in texts:\n",
    "    test_input = tokenizer_bert(text, return_tensors='pt').to(device)\n",
    "    with torch.no_grad():\n",
    "        logits = discriminator(**test_input).logits\n",
    "\n",
    "    predicted_class_id = logits.argmax().item()\n",
    "    if not predicted_class_id:\n",
    "        realistic_texts.append(text)\n",
    "realistic_texts  "
   ]
  },
  {
   "attachments": {},
   "cell_type": "markdown",
   "metadata": {},
   "source": [
    "# Predict best candidate"
   ]
  },
  {
   "cell_type": "code",
   "execution_count": 43,
   "metadata": {},
   "outputs": [
    {
     "data": {
      "text/plain": [
       "'There are many bio based neuroscience courses out there. My math class is pretty fun too.'"
      ]
     },
     "execution_count": 43,
     "metadata": {},
     "output_type": "execute_result"
    }
   ],
   "source": [
    "scores = []\n",
    "for text in realistic_texts:\n",
    "    test_input = tokenizer_bert(text, return_tensors='pt').to(device)\n",
    "    with torch.no_grad():\n",
    "        output = predictor(**test_input)\n",
    "\n",
    "    scores.append(output.logits[0][0].cpu().numpy())\n",
    "\n",
    "output_text = realistic_texts[np.argmax(scores)]\n",
    "output_text"
   ]
  },
  {
   "attachments": {},
   "cell_type": "markdown",
   "metadata": {},
   "source": [
    "# Result"
   ]
  },
  {
   "cell_type": "code",
   "execution_count": 49,
   "metadata": {},
   "outputs": [
    {
     "data": {
      "text/plain": [
       "{'comment': 'Oh nice! I got around this (kind of) by being a bio major with a minor in neuro research. My school had 2 neruo programs - bio based and psych based. My minor was in psych based neuro but I took my bio electives as bio based neuro courses. Still had to do calc 1, calc 2, chem 1, chem 2, orgo 1, orgo 2, physics 1, and physics 2. But I DIDNT have to take intro to pharma kinetics, inorganic chemistry and a few other higher level chem classes. I did this bc the psych based neuro courses had almost no bio and I love bio. But math and chem are my kryptonite.',\n",
       " 'reply': 'There are many bio based neuroscience courses out there. My math class is pretty fun too.'}"
      ]
     },
     "execution_count": 49,
     "metadata": {},
     "output_type": "execute_result"
    }
   ],
   "source": [
    "result = {\n",
    "    'comment': input_text,\n",
    "    'reply': output_text,\n",
    "}\n",
    "result"
   ]
  },
  {
   "cell_type": "code",
   "execution_count": null,
   "metadata": {},
   "outputs": [],
   "source": []
  }
 ],
 "metadata": {
  "kernelspec": {
   "display_name": "Python 3",
   "language": "python",
   "name": "python3"
  },
  "language_info": {
   "codemirror_mode": {
    "name": "ipython",
    "version": 3
   },
   "file_extension": ".py",
   "mimetype": "text/x-python",
   "name": "python",
   "nbconvert_exporter": "python",
   "pygments_lexer": "ipython3",
   "version": "3.10.6"
  },
  "orig_nbformat": 4
 },
 "nbformat": 4,
 "nbformat_minor": 2
}
